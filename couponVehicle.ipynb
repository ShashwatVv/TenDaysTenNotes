{
 "cells": [
  {
   "cell_type": "markdown",
   "id": "3674d81c",
   "metadata": {},
   "source": [
    "# `Shashwat Vaibhav MT21082` \n",
   ]
  },
  {
   "cell_type": "markdown",
   "id": "f91a536c",
   "metadata": {},
   "source": [
    "## Part a\n",
    "## Loading the dataset, t-SNE visualization, train-test-split in 75:25 ratio"
   ]
  },
  {
   "cell_type": "code",
   "execution_count": 451,
   "id": "9f2d536f",
   "metadata": {},
   "outputs": [],
   "source": [
    "##importing libraries/modules\n",
    "import numpy as np, pandas as pd\n",
    "import matplotlib.pyplot as plt\n",
    "import seaborn as sns\n",
    "from scipy import stats as st"
   ]
  },
  {
   "cell_type": "code",
   "execution_count": 474,
   "id": "07f47b4c",
   "metadata": {},
   "outputs": [],
   "source": [
    "#Loading the provided dataset\n",
    "df  = pd.read_csv('..\Data\in-vehicle-coupon-recommendation.csv')"
   ]
  },
  {
   "cell_type": "code",
   "execution_count": 475,
   "id": "301c9041",
   "metadata": {},
   "outputs": [
    {
     "data": {
      "text/html": [
       "<div>\n",
       "<style scoped>\n",
       "    .dataframe tbody tr th:only-of-type {\n",
       "        vertical-align: middle;\n",
       "    }\n",
       "\n",
       "    .dataframe tbody tr th {\n",
       "        vertical-align: top;\n",
       "    }\n",
       "\n",
       "    .dataframe thead th {\n",
       "        text-align: right;\n",
       "    }\n",
       "</style>\n",
       "<table border=\"1\" class=\"dataframe\">\n",
       "  <thead>\n",
       "    <tr style=\"text-align: right;\">\n",
       "      <th></th>\n",
       "      <th>destination</th>\n",
       "      <th>passanger</th>\n",
       "      <th>weather</th>\n",
       "      <th>temperature</th>\n",
       "      <th>time</th>\n",
       "      <th>coupon</th>\n",
       "      <th>expiration</th>\n",
       "      <th>gender</th>\n",
       "      <th>age</th>\n",
       "      <th>maritalStatus</th>\n",
       "      <th>...</th>\n",
       "      <th>CoffeeHouse</th>\n",
       "      <th>CarryAway</th>\n",
       "      <th>RestaurantLessThan20</th>\n",
       "      <th>Restaurant20To50</th>\n",
       "      <th>toCoupon_GEQ5min</th>\n",
       "      <th>toCoupon_GEQ15min</th>\n",
       "      <th>toCoupon_GEQ25min</th>\n",
       "      <th>direction_same</th>\n",
       "      <th>direction_opp</th>\n",
       "      <th>Y</th>\n",
       "    </tr>\n",
       "  </thead>\n",
       "  <tbody>\n",
       "    <tr>\n",
       "      <th>0</th>\n",
       "      <td>No Urgent Place</td>\n",
       "      <td>Alone</td>\n",
       "      <td>Sunny</td>\n",
       "      <td>55</td>\n",
       "      <td>2PM</td>\n",
       "      <td>Restaurant(&lt;20)</td>\n",
       "      <td>1d</td>\n",
       "      <td>Female</td>\n",
       "      <td>21</td>\n",
       "      <td>Unmarried partner</td>\n",
       "      <td>...</td>\n",
       "      <td>never</td>\n",
       "      <td>NaN</td>\n",
       "      <td>4~8</td>\n",
       "      <td>1~3</td>\n",
       "      <td>1</td>\n",
       "      <td>0</td>\n",
       "      <td>0</td>\n",
       "      <td>0</td>\n",
       "      <td>1</td>\n",
       "      <td>1</td>\n",
       "    </tr>\n",
       "    <tr>\n",
       "      <th>1</th>\n",
       "      <td>No Urgent Place</td>\n",
       "      <td>Friend(s)</td>\n",
       "      <td>Sunny</td>\n",
       "      <td>80</td>\n",
       "      <td>10AM</td>\n",
       "      <td>Coffee House</td>\n",
       "      <td>2h</td>\n",
       "      <td>Female</td>\n",
       "      <td>21</td>\n",
       "      <td>Unmarried partner</td>\n",
       "      <td>...</td>\n",
       "      <td>never</td>\n",
       "      <td>NaN</td>\n",
       "      <td>4~8</td>\n",
       "      <td>1~3</td>\n",
       "      <td>1</td>\n",
       "      <td>0</td>\n",
       "      <td>0</td>\n",
       "      <td>0</td>\n",
       "      <td>1</td>\n",
       "      <td>0</td>\n",
       "    </tr>\n",
       "    <tr>\n",
       "      <th>2</th>\n",
       "      <td>No Urgent Place</td>\n",
       "      <td>Friend(s)</td>\n",
       "      <td>Sunny</td>\n",
       "      <td>80</td>\n",
       "      <td>10AM</td>\n",
       "      <td>Carry out &amp; Take away</td>\n",
       "      <td>2h</td>\n",
       "      <td>Female</td>\n",
       "      <td>21</td>\n",
       "      <td>Unmarried partner</td>\n",
       "      <td>...</td>\n",
       "      <td>never</td>\n",
       "      <td>NaN</td>\n",
       "      <td>4~8</td>\n",
       "      <td>1~3</td>\n",
       "      <td>1</td>\n",
       "      <td>1</td>\n",
       "      <td>0</td>\n",
       "      <td>0</td>\n",
       "      <td>1</td>\n",
       "      <td>1</td>\n",
       "    </tr>\n",
       "    <tr>\n",
       "      <th>3</th>\n",
       "      <td>No Urgent Place</td>\n",
       "      <td>Friend(s)</td>\n",
       "      <td>Sunny</td>\n",
       "      <td>80</td>\n",
       "      <td>2PM</td>\n",
       "      <td>Coffee House</td>\n",
       "      <td>2h</td>\n",
       "      <td>Female</td>\n",
       "      <td>21</td>\n",
       "      <td>Unmarried partner</td>\n",
       "      <td>...</td>\n",
       "      <td>never</td>\n",
       "      <td>NaN</td>\n",
       "      <td>4~8</td>\n",
       "      <td>1~3</td>\n",
       "      <td>1</td>\n",
       "      <td>1</td>\n",
       "      <td>0</td>\n",
       "      <td>0</td>\n",
       "      <td>1</td>\n",
       "      <td>0</td>\n",
       "    </tr>\n",
       "    <tr>\n",
       "      <th>4</th>\n",
       "      <td>No Urgent Place</td>\n",
       "      <td>Friend(s)</td>\n",
       "      <td>Sunny</td>\n",
       "      <td>80</td>\n",
       "      <td>2PM</td>\n",
       "      <td>Coffee House</td>\n",
       "      <td>1d</td>\n",
       "      <td>Female</td>\n",
       "      <td>21</td>\n",
       "      <td>Unmarried partner</td>\n",
       "      <td>...</td>\n",
       "      <td>never</td>\n",
       "      <td>NaN</td>\n",
       "      <td>4~8</td>\n",
       "      <td>1~3</td>\n",
       "      <td>1</td>\n",
       "      <td>1</td>\n",
       "      <td>0</td>\n",
       "      <td>0</td>\n",
       "      <td>1</td>\n",
       "      <td>0</td>\n",
       "    </tr>\n",
       "  </tbody>\n",
       "</table>\n",
       "<p>5 rows × 26 columns</p>\n",
       "</div>"
      ],
      "text/plain": [
       "       destination  passanger weather  temperature  time  \\\n",
       "0  No Urgent Place      Alone   Sunny           55   2PM   \n",
       "1  No Urgent Place  Friend(s)   Sunny           80  10AM   \n",
       "2  No Urgent Place  Friend(s)   Sunny           80  10AM   \n",
       "3  No Urgent Place  Friend(s)   Sunny           80   2PM   \n",
       "4  No Urgent Place  Friend(s)   Sunny           80   2PM   \n",
       "\n",
       "                  coupon expiration  gender age      maritalStatus  ...  \\\n",
       "0        Restaurant(<20)         1d  Female  21  Unmarried partner  ...   \n",
       "1           Coffee House         2h  Female  21  Unmarried partner  ...   \n",
       "2  Carry out & Take away         2h  Female  21  Unmarried partner  ...   \n",
       "3           Coffee House         2h  Female  21  Unmarried partner  ...   \n",
       "4           Coffee House         1d  Female  21  Unmarried partner  ...   \n",
       "\n",
       "   CoffeeHouse CarryAway RestaurantLessThan20 Restaurant20To50  \\\n",
       "0        never       NaN                  4~8              1~3   \n",
       "1        never       NaN                  4~8              1~3   \n",
       "2        never       NaN                  4~8              1~3   \n",
       "3        never       NaN                  4~8              1~3   \n",
       "4        never       NaN                  4~8              1~3   \n",
       "\n",
       "  toCoupon_GEQ5min toCoupon_GEQ15min toCoupon_GEQ25min direction_same  \\\n",
       "0                1                 0                 0              0   \n",
       "1                1                 0                 0              0   \n",
       "2                1                 1                 0              0   \n",
       "3                1                 1                 0              0   \n",
       "4                1                 1                 0              0   \n",
       "\n",
       "  direction_opp  Y  \n",
       "0             1  1  \n",
       "1             1  0  \n",
       "2             1  1  \n",
       "3             1  0  \n",
       "4             1  0  \n",
       "\n",
       "[5 rows x 26 columns]"
      ]
     },
     "execution_count": 475,
     "metadata": {},
     "output_type": "execute_result"
    }
   ],
   "source": [
    "df.head()"
   ]
  },
  {
   "cell_type": "code",
   "execution_count": 476,
   "id": "b8019bea",
   "metadata": {},
   "outputs": [
    {
     "name": "stdout",
     "output_type": "stream",
     "text": [
      "Number of rows 12684\n",
      "<class 'pandas.core.frame.DataFrame'>\n",
      "RangeIndex: 12684 entries, 0 to 12683\n",
      "Data columns (total 26 columns):\n",
      " #   Column                Non-Null Count  Dtype \n",
      "---  ------                --------------  ----- \n",
      " 0   destination           12684 non-null  object\n",
      " 1   passanger             12684 non-null  object\n",
      " 2   weather               12684 non-null  object\n",
      " 3   temperature           12684 non-null  int64 \n",
      " 4   time                  12684 non-null  object\n",
      " 5   coupon                12684 non-null  object\n",
      " 6   expiration            12684 non-null  object\n",
      " 7   gender                12684 non-null  object\n",
      " 8   age                   12684 non-null  object\n",
      " 9   maritalStatus         12684 non-null  object\n",
      " 10  has_children          12684 non-null  int64 \n",
      " 11  education             12684 non-null  object\n",
      " 12  occupation            12684 non-null  object\n",
      " 13  income                12684 non-null  object\n",
      " 14  car                   108 non-null    object\n",
      " 15  Bar                   12577 non-null  object\n",
      " 16  CoffeeHouse           12467 non-null  object\n",
      " 17  CarryAway             12533 non-null  object\n",
      " 18  RestaurantLessThan20  12554 non-null  object\n",
      " 19  Restaurant20To50      12495 non-null  object\n",
      " 20  toCoupon_GEQ5min      12684 non-null  int64 \n",
      " 21  toCoupon_GEQ15min     12684 non-null  int64 \n",
      " 22  toCoupon_GEQ25min     12684 non-null  int64 \n",
      " 23  direction_same        12684 non-null  int64 \n",
      " 24  direction_opp         12684 non-null  int64 \n",
      " 25  Y                     12684 non-null  int64 \n",
      "dtypes: int64(8), object(18)\n",
      "memory usage: 2.5+ MB\n"
     ]
    }
   ],
   "source": [
    "print('Number of rows',len(df))\n",
    "df.info()"
   ]
  },
  {
   "cell_type": "markdown",
   "id": "20b91dc7",
   "metadata": {},
   "source": [
    "### `The dataset has 26  features/columns and from the info(), it is clear that some of the attributes, do have missing values.`"
   ]
  },
  {
   "cell_type": "code",
   "execution_count": 477,
   "id": "63b211b6",
   "metadata": {},
   "outputs": [
    {
     "data": {
      "text/plain": [
       "12533"
      ]
     },
     "execution_count": 477,
     "metadata": {},
     "output_type": "execute_result"
    }
   ],
   "source": [
    "df['CarryAway'].value_counts().sum()\n",
    "#df.column"
   ]
  },
  {
   "cell_type": "code",
   "execution_count": 478,
   "id": "42b2f30d",
   "metadata": {},
   "outputs": [
    {
     "name": "stdout",
     "output_type": "stream",
     "text": [
      "Number of missing values in column \"car\"  are 12576 .\n",
      "Number of missing values in column \"Bar\"  are 107 .\n",
      "Number of missing values in column \"CoffeeHouse\"  are 217 .\n",
      "Number of missing values in column \"CarryAway\"  are 151 .\n",
      "Number of missing values in column \"RestaurantLessThan20\"  are 130 .\n",
      "Number of missing values in column \"Restaurant20To50\"  are 189 .\n"
     ]
    }
   ],
   "source": [
    "##Let's see which columns do have missing values along with their numbers\n",
    "length = len(df)\n",
    "features_with_missing_values = []\n",
    "for col in df.columns:\n",
    "    if df[col].value_counts().sum() < length:\n",
    "        mis = length - df[col].value_counts().sum()\n",
    "        features_with_missing_values.append(col)\n",
    "        print('Number of missing values in column \"{}\"  are {} .'.format(col,mis))"
   ]
  },
  {
   "cell_type": "code",
   "execution_count": 479,
   "id": "408ab99f",
   "metadata": {},
   "outputs": [
    {
     "name": "stdout",
     "output_type": "stream",
     "text": [
      "car --> [nan 'Scooter and motorcycle' 'crossover' 'Mazda5' 'do not drive'\n",
      " 'Car that is too old to install Onstar :D']\n",
      "Bar --> ['never' 'less1' '1~3' 'gt8' nan '4~8']\n",
      "CoffeeHouse --> ['never' 'less1' '4~8' '1~3' 'gt8' nan]\n",
      "CarryAway --> [nan '4~8' '1~3' 'gt8' 'less1' 'never']\n",
      "RestaurantLessThan20 --> ['4~8' '1~3' 'less1' 'gt8' nan 'never']\n",
      "Restaurant20To50 --> ['1~3' 'less1' 'never' 'gt8' '4~8' nan]\n"
     ]
    }
   ],
   "source": [
    "## Kind of values in these features with missing values\n",
    "for feat in features_with_missing_values:\n",
    "    print(feat,'-->', df[feat].unique())\n",
    "    "
   ]
  },
  {
   "cell_type": "markdown",
   "id": "2bf8ae77",
   "metadata": {},
   "source": [
    "### The feature column car contains 12684 - 107 = 12576 missing values. Should this feature be dropped??"
   ]
  },
  {
   "cell_type": "code",
   "execution_count": 480,
   "id": "d164c5f6",
   "metadata": {},
   "outputs": [],
   "source": [
    "df.drop('car', axis=1, inplace=True)\n",
    "list_of_attribute = [\"RestaurantLessThan20\",\"CarryAway\"]\n",
    "df.dropna(subset=list_of_attribute, inplace=True)"
   ]
  },
  {
   "cell_type": "code",
   "execution_count": 481,
   "id": "b191042b",
   "metadata": {},
   "outputs": [
    {
     "name": "stdout",
     "output_type": "stream",
     "text": [
      "<class 'pandas.core.frame.DataFrame'>\n",
      "Int64Index: 12445 entries, 22 to 12683\n",
      "Data columns (total 25 columns):\n",
      " #   Column                Non-Null Count  Dtype \n",
      "---  ------                --------------  ----- \n",
      " 0   destination           12445 non-null  object\n",
      " 1   passanger             12445 non-null  object\n",
      " 2   weather               12445 non-null  object\n",
      " 3   temperature           12445 non-null  int64 \n",
      " 4   time                  12445 non-null  object\n",
      " 5   coupon                12445 non-null  object\n",
      " 6   expiration            12445 non-null  object\n",
      " 7   gender                12445 non-null  object\n",
      " 8   age                   12445 non-null  object\n",
      " 9   maritalStatus         12445 non-null  object\n",
      " 10  has_children          12445 non-null  int64 \n",
      " 11  education             12445 non-null  object\n",
      " 12  occupation            12445 non-null  object\n",
      " 13  income                12445 non-null  object\n",
      " 14  Bar                   12380 non-null  object\n",
      " 15  CoffeeHouse           12270 non-null  object\n",
      " 16  CarryAway             12445 non-null  object\n",
      " 17  RestaurantLessThan20  12445 non-null  object\n",
      " 18  Restaurant20To50      12298 non-null  object\n",
      " 19  toCoupon_GEQ5min      12445 non-null  int64 \n",
      " 20  toCoupon_GEQ15min     12445 non-null  int64 \n",
      " 21  toCoupon_GEQ25min     12445 non-null  int64 \n",
      " 22  direction_same        12445 non-null  int64 \n",
      " 23  direction_opp         12445 non-null  int64 \n",
      " 24  Y                     12445 non-null  int64 \n",
      "dtypes: int64(8), object(17)\n",
      "memory usage: 2.5+ MB\n"
     ]
    }
   ],
   "source": [
    "df.info()"
   ]
  },
  {
   "cell_type": "code",
   "execution_count": 482,
   "id": "ce21a081",
   "metadata": {},
   "outputs": [],
   "source": [
    "for feat in df.columns:\n",
    "    if df[feat].dtype == 'O':\n",
    "        df[feat] = df[feat].astype('category')"
   ]
  },
  {
   "cell_type": "code",
   "execution_count": 483,
   "id": "862f4700",
   "metadata": {},
   "outputs": [
    {
     "data": {
      "text/plain": [
       "['destination',\n",
       " 'passanger',\n",
       " 'weather',\n",
       " 'time',\n",
       " 'coupon',\n",
       " 'expiration',\n",
       " 'gender',\n",
       " 'age',\n",
       " 'maritalStatus',\n",
       " 'education',\n",
       " 'occupation',\n",
       " 'income',\n",
       " 'Bar',\n",
       " 'CoffeeHouse',\n",
       " 'CarryAway',\n",
       " 'RestaurantLessThan20',\n",
       " 'Restaurant20To50']"
      ]
     },
     "execution_count": 483,
     "metadata": {},
     "output_type": "execute_result"
    }
   ],
   "source": [
    "categorical_feat= list()\n",
    "for col in df.columns:\n",
    "    if df[col].dtype.name == 'category':\n",
    "        categorical_feat.append(col)\n",
    "\n",
    "categorical_feat"
   ]
  },
  {
   "cell_type": "code",
   "execution_count": 484,
   "id": "a119fd94",
   "metadata": {},
   "outputs": [
    {
     "name": "stdout",
     "output_type": "stream",
     "text": [
      "<class 'pandas.core.frame.DataFrame'>\n",
      "Int64Index: 12445 entries, 22 to 12683\n",
      "Data columns (total 25 columns):\n",
      " #   Column                Non-Null Count  Dtype   \n",
      "---  ------                --------------  -----   \n",
      " 0   destination           12445 non-null  category\n",
      " 1   passanger             12445 non-null  category\n",
      " 2   weather               12445 non-null  category\n",
      " 3   temperature           12445 non-null  int64   \n",
      " 4   time                  12445 non-null  category\n",
      " 5   coupon                12445 non-null  category\n",
      " 6   expiration            12445 non-null  category\n",
      " 7   gender                12445 non-null  category\n",
      " 8   age                   12445 non-null  category\n",
      " 9   maritalStatus         12445 non-null  category\n",
      " 10  has_children          12445 non-null  int64   \n",
      " 11  education             12445 non-null  category\n",
      " 12  occupation            12445 non-null  category\n",
      " 13  income                12445 non-null  category\n",
      " 14  Bar                   12380 non-null  category\n",
      " 15  CoffeeHouse           12270 non-null  category\n",
      " 16  CarryAway             12445 non-null  category\n",
      " 17  RestaurantLessThan20  12445 non-null  category\n",
      " 18  Restaurant20To50      12298 non-null  category\n",
      " 19  toCoupon_GEQ5min      12445 non-null  int64   \n",
      " 20  toCoupon_GEQ15min     12445 non-null  int64   \n",
      " 21  toCoupon_GEQ25min     12445 non-null  int64   \n",
      " 22  direction_same        12445 non-null  int64   \n",
      " 23  direction_opp         12445 non-null  int64   \n",
      " 24  Y                     12445 non-null  int64   \n",
      "dtypes: category(17), int64(8)\n",
      "memory usage: 1.1 MB\n"
     ]
    }
   ],
   "source": [
    "\n",
    "df.info()"
   ]
  },
  {
   "cell_type": "code",
   "execution_count": 485,
   "id": "464f71cf",
   "metadata": {},
   "outputs": [
    {
     "data": {
      "text/html": [
       "<div>\n",
       "<style scoped>\n",
       "    .dataframe tbody tr th:only-of-type {\n",
       "        vertical-align: middle;\n",
       "    }\n",
       "\n",
       "    .dataframe tbody tr th {\n",
       "        vertical-align: top;\n",
       "    }\n",
       "\n",
       "    .dataframe thead th {\n",
       "        text-align: right;\n",
       "    }\n",
       "</style>\n",
       "<table border=\"1\" class=\"dataframe\">\n",
       "  <thead>\n",
       "    <tr style=\"text-align: right;\">\n",
       "      <th></th>\n",
       "      <th>temperature</th>\n",
       "      <th>has_children</th>\n",
       "      <th>toCoupon_GEQ5min</th>\n",
       "      <th>toCoupon_GEQ15min</th>\n",
       "      <th>toCoupon_GEQ25min</th>\n",
       "      <th>direction_same</th>\n",
       "      <th>direction_opp</th>\n",
       "      <th>Y</th>\n",
       "      <th>destination_Home</th>\n",
       "      <th>destination_No Urgent Place</th>\n",
       "      <th>...</th>\n",
       "      <th>RestaurantLessThan20_1~3</th>\n",
       "      <th>RestaurantLessThan20_4~8</th>\n",
       "      <th>RestaurantLessThan20_gt8</th>\n",
       "      <th>RestaurantLessThan20_less1</th>\n",
       "      <th>RestaurantLessThan20_never</th>\n",
       "      <th>Restaurant20To50_1~3</th>\n",
       "      <th>Restaurant20To50_4~8</th>\n",
       "      <th>Restaurant20To50_gt8</th>\n",
       "      <th>Restaurant20To50_less1</th>\n",
       "      <th>Restaurant20To50_never</th>\n",
       "    </tr>\n",
       "  </thead>\n",
       "  <tbody>\n",
       "    <tr>\n",
       "      <th>22</th>\n",
       "      <td>55</td>\n",
       "      <td>0</td>\n",
       "      <td>1</td>\n",
       "      <td>0</td>\n",
       "      <td>0</td>\n",
       "      <td>0</td>\n",
       "      <td>1</td>\n",
       "      <td>1</td>\n",
       "      <td>0</td>\n",
       "      <td>1</td>\n",
       "      <td>...</td>\n",
       "      <td>0</td>\n",
       "      <td>1</td>\n",
       "      <td>0</td>\n",
       "      <td>0</td>\n",
       "      <td>0</td>\n",
       "      <td>0</td>\n",
       "      <td>0</td>\n",
       "      <td>0</td>\n",
       "      <td>1</td>\n",
       "      <td>0</td>\n",
       "    </tr>\n",
       "    <tr>\n",
       "      <th>23</th>\n",
       "      <td>80</td>\n",
       "      <td>0</td>\n",
       "      <td>1</td>\n",
       "      <td>0</td>\n",
       "      <td>0</td>\n",
       "      <td>0</td>\n",
       "      <td>1</td>\n",
       "      <td>0</td>\n",
       "      <td>0</td>\n",
       "      <td>1</td>\n",
       "      <td>...</td>\n",
       "      <td>0</td>\n",
       "      <td>1</td>\n",
       "      <td>0</td>\n",
       "      <td>0</td>\n",
       "      <td>0</td>\n",
       "      <td>0</td>\n",
       "      <td>0</td>\n",
       "      <td>0</td>\n",
       "      <td>1</td>\n",
       "      <td>0</td>\n",
       "    </tr>\n",
       "    <tr>\n",
       "      <th>24</th>\n",
       "      <td>80</td>\n",
       "      <td>0</td>\n",
       "      <td>1</td>\n",
       "      <td>0</td>\n",
       "      <td>0</td>\n",
       "      <td>0</td>\n",
       "      <td>1</td>\n",
       "      <td>1</td>\n",
       "      <td>0</td>\n",
       "      <td>1</td>\n",
       "      <td>...</td>\n",
       "      <td>0</td>\n",
       "      <td>1</td>\n",
       "      <td>0</td>\n",
       "      <td>0</td>\n",
       "      <td>0</td>\n",
       "      <td>0</td>\n",
       "      <td>0</td>\n",
       "      <td>0</td>\n",
       "      <td>1</td>\n",
       "      <td>0</td>\n",
       "    </tr>\n",
       "    <tr>\n",
       "      <th>25</th>\n",
       "      <td>80</td>\n",
       "      <td>0</td>\n",
       "      <td>1</td>\n",
       "      <td>1</td>\n",
       "      <td>0</td>\n",
       "      <td>0</td>\n",
       "      <td>1</td>\n",
       "      <td>0</td>\n",
       "      <td>0</td>\n",
       "      <td>1</td>\n",
       "      <td>...</td>\n",
       "      <td>0</td>\n",
       "      <td>1</td>\n",
       "      <td>0</td>\n",
       "      <td>0</td>\n",
       "      <td>0</td>\n",
       "      <td>0</td>\n",
       "      <td>0</td>\n",
       "      <td>0</td>\n",
       "      <td>1</td>\n",
       "      <td>0</td>\n",
       "    </tr>\n",
       "    <tr>\n",
       "      <th>26</th>\n",
       "      <td>80</td>\n",
       "      <td>0</td>\n",
       "      <td>1</td>\n",
       "      <td>0</td>\n",
       "      <td>0</td>\n",
       "      <td>0</td>\n",
       "      <td>1</td>\n",
       "      <td>0</td>\n",
       "      <td>0</td>\n",
       "      <td>1</td>\n",
       "      <td>...</td>\n",
       "      <td>0</td>\n",
       "      <td>1</td>\n",
       "      <td>0</td>\n",
       "      <td>0</td>\n",
       "      <td>0</td>\n",
       "      <td>0</td>\n",
       "      <td>0</td>\n",
       "      <td>0</td>\n",
       "      <td>1</td>\n",
       "      <td>0</td>\n",
       "    </tr>\n",
       "    <tr>\n",
       "      <th>...</th>\n",
       "      <td>...</td>\n",
       "      <td>...</td>\n",
       "      <td>...</td>\n",
       "      <td>...</td>\n",
       "      <td>...</td>\n",
       "      <td>...</td>\n",
       "      <td>...</td>\n",
       "      <td>...</td>\n",
       "      <td>...</td>\n",
       "      <td>...</td>\n",
       "      <td>...</td>\n",
       "      <td>...</td>\n",
       "      <td>...</td>\n",
       "      <td>...</td>\n",
       "      <td>...</td>\n",
       "      <td>...</td>\n",
       "      <td>...</td>\n",
       "      <td>...</td>\n",
       "      <td>...</td>\n",
       "      <td>...</td>\n",
       "      <td>...</td>\n",
       "    </tr>\n",
       "    <tr>\n",
       "      <th>12679</th>\n",
       "      <td>55</td>\n",
       "      <td>0</td>\n",
       "      <td>1</td>\n",
       "      <td>0</td>\n",
       "      <td>0</td>\n",
       "      <td>1</td>\n",
       "      <td>0</td>\n",
       "      <td>1</td>\n",
       "      <td>1</td>\n",
       "      <td>0</td>\n",
       "      <td>...</td>\n",
       "      <td>0</td>\n",
       "      <td>1</td>\n",
       "      <td>0</td>\n",
       "      <td>0</td>\n",
       "      <td>0</td>\n",
       "      <td>1</td>\n",
       "      <td>0</td>\n",
       "      <td>0</td>\n",
       "      <td>0</td>\n",
       "      <td>0</td>\n",
       "    </tr>\n",
       "    <tr>\n",
       "      <th>12680</th>\n",
       "      <td>55</td>\n",
       "      <td>0</td>\n",
       "      <td>1</td>\n",
       "      <td>0</td>\n",
       "      <td>0</td>\n",
       "      <td>0</td>\n",
       "      <td>1</td>\n",
       "      <td>1</td>\n",
       "      <td>0</td>\n",
       "      <td>0</td>\n",
       "      <td>...</td>\n",
       "      <td>0</td>\n",
       "      <td>1</td>\n",
       "      <td>0</td>\n",
       "      <td>0</td>\n",
       "      <td>0</td>\n",
       "      <td>1</td>\n",
       "      <td>0</td>\n",
       "      <td>0</td>\n",
       "      <td>0</td>\n",
       "      <td>0</td>\n",
       "    </tr>\n",
       "    <tr>\n",
       "      <th>12681</th>\n",
       "      <td>30</td>\n",
       "      <td>0</td>\n",
       "      <td>1</td>\n",
       "      <td>0</td>\n",
       "      <td>0</td>\n",
       "      <td>1</td>\n",
       "      <td>0</td>\n",
       "      <td>0</td>\n",
       "      <td>0</td>\n",
       "      <td>0</td>\n",
       "      <td>...</td>\n",
       "      <td>0</td>\n",
       "      <td>1</td>\n",
       "      <td>0</td>\n",
       "      <td>0</td>\n",
       "      <td>0</td>\n",
       "      <td>1</td>\n",
       "      <td>0</td>\n",
       "      <td>0</td>\n",
       "      <td>0</td>\n",
       "      <td>0</td>\n",
       "    </tr>\n",
       "    <tr>\n",
       "      <th>12682</th>\n",
       "      <td>30</td>\n",
       "      <td>0</td>\n",
       "      <td>1</td>\n",
       "      <td>1</td>\n",
       "      <td>1</td>\n",
       "      <td>0</td>\n",
       "      <td>1</td>\n",
       "      <td>0</td>\n",
       "      <td>0</td>\n",
       "      <td>0</td>\n",
       "      <td>...</td>\n",
       "      <td>0</td>\n",
       "      <td>1</td>\n",
       "      <td>0</td>\n",
       "      <td>0</td>\n",
       "      <td>0</td>\n",
       "      <td>1</td>\n",
       "      <td>0</td>\n",
       "      <td>0</td>\n",
       "      <td>0</td>\n",
       "      <td>0</td>\n",
       "    </tr>\n",
       "    <tr>\n",
       "      <th>12683</th>\n",
       "      <td>80</td>\n",
       "      <td>0</td>\n",
       "      <td>1</td>\n",
       "      <td>0</td>\n",
       "      <td>0</td>\n",
       "      <td>1</td>\n",
       "      <td>0</td>\n",
       "      <td>0</td>\n",
       "      <td>0</td>\n",
       "      <td>0</td>\n",
       "      <td>...</td>\n",
       "      <td>0</td>\n",
       "      <td>1</td>\n",
       "      <td>0</td>\n",
       "      <td>0</td>\n",
       "      <td>0</td>\n",
       "      <td>1</td>\n",
       "      <td>0</td>\n",
       "      <td>0</td>\n",
       "      <td>0</td>\n",
       "      <td>0</td>\n",
       "    </tr>\n",
       "  </tbody>\n",
       "</table>\n",
       "<p>12445 rows × 110 columns</p>\n",
       "</div>"
      ],
      "text/plain": [
       "       temperature  has_children  toCoupon_GEQ5min  toCoupon_GEQ15min  \\\n",
       "22              55             0                 1                  0   \n",
       "23              80             0                 1                  0   \n",
       "24              80             0                 1                  0   \n",
       "25              80             0                 1                  1   \n",
       "26              80             0                 1                  0   \n",
       "...            ...           ...               ...                ...   \n",
       "12679           55             0                 1                  0   \n",
       "12680           55             0                 1                  0   \n",
       "12681           30             0                 1                  0   \n",
       "12682           30             0                 1                  1   \n",
       "12683           80             0                 1                  0   \n",
       "\n",
       "       toCoupon_GEQ25min  direction_same  direction_opp  Y  destination_Home  \\\n",
       "22                     0               0              1  1                 0   \n",
       "23                     0               0              1  0                 0   \n",
       "24                     0               0              1  1                 0   \n",
       "25                     0               0              1  0                 0   \n",
       "26                     0               0              1  0                 0   \n",
       "...                  ...             ...            ... ..               ...   \n",
       "12679                  0               1              0  1                 1   \n",
       "12680                  0               0              1  1                 0   \n",
       "12681                  0               1              0  0                 0   \n",
       "12682                  1               0              1  0                 0   \n",
       "12683                  0               1              0  0                 0   \n",
       "\n",
       "       destination_No Urgent Place  ...  RestaurantLessThan20_1~3  \\\n",
       "22                               1  ...                         0   \n",
       "23                               1  ...                         0   \n",
       "24                               1  ...                         0   \n",
       "25                               1  ...                         0   \n",
       "26                               1  ...                         0   \n",
       "...                            ...  ...                       ...   \n",
       "12679                            0  ...                         0   \n",
       "12680                            0  ...                         0   \n",
       "12681                            0  ...                         0   \n",
       "12682                            0  ...                         0   \n",
       "12683                            0  ...                         0   \n",
       "\n",
       "       RestaurantLessThan20_4~8  RestaurantLessThan20_gt8  \\\n",
       "22                            1                         0   \n",
       "23                            1                         0   \n",
       "24                            1                         0   \n",
       "25                            1                         0   \n",
       "26                            1                         0   \n",
       "...                         ...                       ...   \n",
       "12679                         1                         0   \n",
       "12680                         1                         0   \n",
       "12681                         1                         0   \n",
       "12682                         1                         0   \n",
       "12683                         1                         0   \n",
       "\n",
       "       RestaurantLessThan20_less1  RestaurantLessThan20_never  \\\n",
       "22                              0                           0   \n",
       "23                              0                           0   \n",
       "24                              0                           0   \n",
       "25                              0                           0   \n",
       "26                              0                           0   \n",
       "...                           ...                         ...   \n",
       "12679                           0                           0   \n",
       "12680                           0                           0   \n",
       "12681                           0                           0   \n",
       "12682                           0                           0   \n",
       "12683                           0                           0   \n",
       "\n",
       "       Restaurant20To50_1~3  Restaurant20To50_4~8  Restaurant20To50_gt8  \\\n",
       "22                        0                     0                     0   \n",
       "23                        0                     0                     0   \n",
       "24                        0                     0                     0   \n",
       "25                        0                     0                     0   \n",
       "26                        0                     0                     0   \n",
       "...                     ...                   ...                   ...   \n",
       "12679                     1                     0                     0   \n",
       "12680                     1                     0                     0   \n",
       "12681                     1                     0                     0   \n",
       "12682                     1                     0                     0   \n",
       "12683                     1                     0                     0   \n",
       "\n",
       "       Restaurant20To50_less1  Restaurant20To50_never  \n",
       "22                          1                       0  \n",
       "23                          1                       0  \n",
       "24                          1                       0  \n",
       "25                          1                       0  \n",
       "26                          1                       0  \n",
       "...                       ...                     ...  \n",
       "12679                       0                       0  \n",
       "12680                       0                       0  \n",
       "12681                       0                       0  \n",
       "12682                       0                       0  \n",
       "12683                       0                       0  \n",
       "\n",
       "[12445 rows x 110 columns]"
      ]
     },
     "execution_count": 485,
     "metadata": {},
     "output_type": "execute_result"
    }
   ],
   "source": [
    "##Converting categorical data to numeric one\n",
    "df = pd.get_dummies(df)\n",
    "df\n"
   ]
  },
  {
   "cell_type": "code",
   "execution_count": 465,
   "id": "09e5c12c",
   "metadata": {},
   "outputs": [
    {
     "name": "stdout",
     "output_type": "stream",
     "text": [
      "<class 'pandas.core.frame.DataFrame'>\n",
      "Int64Index: 12445 entries, 22 to 12683\n",
      "Columns: 110 entries, temperature to Restaurant20To50_never\n",
      "dtypes: int64(8), uint8(102)\n",
      "memory usage: 2.1 MB\n"
     ]
    }
   ],
   "source": [
    "df.info()"
   ]
  },
  {
   "cell_type": "code",
   "execution_count": 552,
   "id": "93f98984",
   "metadata": {},
   "outputs": [],
   "source": [
    "## Let's  divide our dataset df into X(features) and Y(target variable)\n",
    "X = df.drop('Y',axis=1)\n",
    "Y = df['Y']\n",
    "X['Y'] = Y"
   ]
  },
  {
   "cell_type": "code",
   "execution_count": 553,
   "id": "6cab5285",
   "metadata": {},
   "outputs": [
    {
     "data": {
      "text/html": [
       "<div>\n",
       "<style scoped>\n",
       "    .dataframe tbody tr th:only-of-type {\n",
       "        vertical-align: middle;\n",
       "    }\n",
       "\n",
       "    .dataframe tbody tr th {\n",
       "        vertical-align: top;\n",
       "    }\n",
       "\n",
       "    .dataframe thead th {\n",
       "        text-align: right;\n",
       "    }\n",
       "</style>\n",
       "<table border=\"1\" class=\"dataframe\">\n",
       "  <thead>\n",
       "    <tr style=\"text-align: right;\">\n",
       "      <th></th>\n",
       "      <th>temperature</th>\n",
       "      <th>has_children</th>\n",
       "      <th>toCoupon_GEQ5min</th>\n",
       "      <th>toCoupon_GEQ15min</th>\n",
       "      <th>toCoupon_GEQ25min</th>\n",
       "      <th>direction_same</th>\n",
       "      <th>direction_opp</th>\n",
       "      <th>destination_Home</th>\n",
       "      <th>destination_No Urgent Place</th>\n",
       "      <th>destination_Work</th>\n",
       "      <th>...</th>\n",
       "      <th>RestaurantLessThan20_4~8</th>\n",
       "      <th>RestaurantLessThan20_gt8</th>\n",
       "      <th>RestaurantLessThan20_less1</th>\n",
       "      <th>RestaurantLessThan20_never</th>\n",
       "      <th>Restaurant20To50_1~3</th>\n",
       "      <th>Restaurant20To50_4~8</th>\n",
       "      <th>Restaurant20To50_gt8</th>\n",
       "      <th>Restaurant20To50_less1</th>\n",
       "      <th>Restaurant20To50_never</th>\n",
       "      <th>Y</th>\n",
       "    </tr>\n",
       "  </thead>\n",
       "  <tbody>\n",
       "    <tr>\n",
       "      <th>22</th>\n",
       "      <td>55</td>\n",
       "      <td>0</td>\n",
       "      <td>1</td>\n",
       "      <td>0</td>\n",
       "      <td>0</td>\n",
       "      <td>0</td>\n",
       "      <td>1</td>\n",
       "      <td>0</td>\n",
       "      <td>1</td>\n",
       "      <td>0</td>\n",
       "      <td>...</td>\n",
       "      <td>1</td>\n",
       "      <td>0</td>\n",
       "      <td>0</td>\n",
       "      <td>0</td>\n",
       "      <td>0</td>\n",
       "      <td>0</td>\n",
       "      <td>0</td>\n",
       "      <td>1</td>\n",
       "      <td>0</td>\n",
       "      <td>1</td>\n",
       "    </tr>\n",
       "    <tr>\n",
       "      <th>23</th>\n",
       "      <td>80</td>\n",
       "      <td>0</td>\n",
       "      <td>1</td>\n",
       "      <td>0</td>\n",
       "      <td>0</td>\n",
       "      <td>0</td>\n",
       "      <td>1</td>\n",
       "      <td>0</td>\n",
       "      <td>1</td>\n",
       "      <td>0</td>\n",
       "      <td>...</td>\n",
       "      <td>1</td>\n",
       "      <td>0</td>\n",
       "      <td>0</td>\n",
       "      <td>0</td>\n",
       "      <td>0</td>\n",
       "      <td>0</td>\n",
       "      <td>0</td>\n",
       "      <td>1</td>\n",
       "      <td>0</td>\n",
       "      <td>0</td>\n",
       "    </tr>\n",
       "    <tr>\n",
       "      <th>24</th>\n",
       "      <td>80</td>\n",
       "      <td>0</td>\n",
       "      <td>1</td>\n",
       "      <td>0</td>\n",
       "      <td>0</td>\n",
       "      <td>0</td>\n",
       "      <td>1</td>\n",
       "      <td>0</td>\n",
       "      <td>1</td>\n",
       "      <td>0</td>\n",
       "      <td>...</td>\n",
       "      <td>1</td>\n",
       "      <td>0</td>\n",
       "      <td>0</td>\n",
       "      <td>0</td>\n",
       "      <td>0</td>\n",
       "      <td>0</td>\n",
       "      <td>0</td>\n",
       "      <td>1</td>\n",
       "      <td>0</td>\n",
       "      <td>1</td>\n",
       "    </tr>\n",
       "    <tr>\n",
       "      <th>25</th>\n",
       "      <td>80</td>\n",
       "      <td>0</td>\n",
       "      <td>1</td>\n",
       "      <td>1</td>\n",
       "      <td>0</td>\n",
       "      <td>0</td>\n",
       "      <td>1</td>\n",
       "      <td>0</td>\n",
       "      <td>1</td>\n",
       "      <td>0</td>\n",
       "      <td>...</td>\n",
       "      <td>1</td>\n",
       "      <td>0</td>\n",
       "      <td>0</td>\n",
       "      <td>0</td>\n",
       "      <td>0</td>\n",
       "      <td>0</td>\n",
       "      <td>0</td>\n",
       "      <td>1</td>\n",
       "      <td>0</td>\n",
       "      <td>0</td>\n",
       "    </tr>\n",
       "    <tr>\n",
       "      <th>26</th>\n",
       "      <td>80</td>\n",
       "      <td>0</td>\n",
       "      <td>1</td>\n",
       "      <td>0</td>\n",
       "      <td>0</td>\n",
       "      <td>0</td>\n",
       "      <td>1</td>\n",
       "      <td>0</td>\n",
       "      <td>1</td>\n",
       "      <td>0</td>\n",
       "      <td>...</td>\n",
       "      <td>1</td>\n",
       "      <td>0</td>\n",
       "      <td>0</td>\n",
       "      <td>0</td>\n",
       "      <td>0</td>\n",
       "      <td>0</td>\n",
       "      <td>0</td>\n",
       "      <td>1</td>\n",
       "      <td>0</td>\n",
       "      <td>0</td>\n",
       "    </tr>\n",
       "  </tbody>\n",
       "</table>\n",
       "<p>5 rows × 110 columns</p>\n",
       "</div>"
      ],
      "text/plain": [
       "    temperature  has_children  toCoupon_GEQ5min  toCoupon_GEQ15min  \\\n",
       "22           55             0                 1                  0   \n",
       "23           80             0                 1                  0   \n",
       "24           80             0                 1                  0   \n",
       "25           80             0                 1                  1   \n",
       "26           80             0                 1                  0   \n",
       "\n",
       "    toCoupon_GEQ25min  direction_same  direction_opp  destination_Home  \\\n",
       "22                  0               0              1                 0   \n",
       "23                  0               0              1                 0   \n",
       "24                  0               0              1                 0   \n",
       "25                  0               0              1                 0   \n",
       "26                  0               0              1                 0   \n",
       "\n",
       "    destination_No Urgent Place  destination_Work  ...  \\\n",
       "22                            1                 0  ...   \n",
       "23                            1                 0  ...   \n",
       "24                            1                 0  ...   \n",
       "25                            1                 0  ...   \n",
       "26                            1                 0  ...   \n",
       "\n",
       "    RestaurantLessThan20_4~8  RestaurantLessThan20_gt8  \\\n",
       "22                         1                         0   \n",
       "23                         1                         0   \n",
       "24                         1                         0   \n",
       "25                         1                         0   \n",
       "26                         1                         0   \n",
       "\n",
       "    RestaurantLessThan20_less1  RestaurantLessThan20_never  \\\n",
       "22                           0                           0   \n",
       "23                           0                           0   \n",
       "24                           0                           0   \n",
       "25                           0                           0   \n",
       "26                           0                           0   \n",
       "\n",
       "    Restaurant20To50_1~3  Restaurant20To50_4~8  Restaurant20To50_gt8  \\\n",
       "22                     0                     0                     0   \n",
       "23                     0                     0                     0   \n",
       "24                     0                     0                     0   \n",
       "25                     0                     0                     0   \n",
       "26                     0                     0                     0   \n",
       "\n",
       "    Restaurant20To50_less1  Restaurant20To50_never  Y  \n",
       "22                       1                       0  1  \n",
       "23                       1                       0  0  \n",
       "24                       1                       0  1  \n",
       "25                       1                       0  0  \n",
       "26                       1                       0  0  \n",
       "\n",
       "[5 rows x 110 columns]"
      ]
     },
     "execution_count": 553,
     "metadata": {},
     "output_type": "execute_result"
    }
   ],
   "source": [
    "X.head()"
   ]
  },
  {
   "cell_type": "code",
   "execution_count": 450,
   "id": "45fa6951",
   "metadata": {},
   "outputs": [],
   "source": [
    "from sklearn.preprocessing import OneHotEncoder, LabelEncoder\n",
    "from sklearn.model_selection import train_test_split\n",
    "from sklearn.manifold import  TSNE"
   ]
  },
  {
   "cell_type": "code",
   "execution_count": 554,
   "id": "f486c1a9",
   "metadata": {},
   "outputs": [
    {
     "name": "stdout",
     "output_type": "stream",
     "text": [
      "<class 'pandas.core.frame.DataFrame'>\n",
      "Int64Index: 12445 entries, 22 to 12683\n",
      "Columns: 110 entries, temperature to Y\n",
      "dtypes: int64(8), uint8(102)\n",
      "memory usage: 2.1 MB\n"
     ]
    }
   ],
   "source": [
    "X.columns\n",
    "X.info()"
   ]
  },
  {
   "cell_type": "code",
   "execution_count": 555,
   "id": "4c97c978",
   "metadata": {},
   "outputs": [],
   "source": [
    "X_arrafied = X.values\n",
    "Y_arrafied = Y.values"
   ]
  },
  {
   "cell_type": "code",
   "execution_count": 556,
   "id": "4430cc46",
   "metadata": {},
   "outputs": [],
   "source": [
    "##Let's split our dataset into train and test\n",
    "Xtrain, Xtest, Ytrain, Ytest = train_test_split(X_arrafied, Y_arrafied, train_size=0.75, random_state=101)"
   ]
  },
  {
   "cell_type": "markdown",
   "id": "29260892",
   "metadata": {},
   "source": [
    "### `t-SNE plot for our dataset`"
   ]
  },
  {
   "cell_type": "code",
   "execution_count": 471,
   "id": "3cd89038",
   "metadata": {},
   "outputs": [
    {
     "data": {
      "text/plain": [
       "1    7049\n",
       "0    5396\n",
       "Name: Y, dtype: int64"
      ]
     },
     "execution_count": 471,
     "metadata": {},
     "output_type": "execute_result"
    }
   ],
   "source": [
    "Y.value_counts()"
   ]
  },
  {
   "cell_type": "code",
   "execution_count": 488,
   "id": "ac8d25c1",
   "metadata": {},
   "outputs": [],
   "source": [
    "##We have 2 labels in target value\n",
    "tsne_obj = TSNE(n_components=2)\n",
    "tsne_output = tsne_obj.fit_transform(X)"
   ]
  },
  {
   "cell_type": "code",
   "execution_count": 473,
   "id": "902d7ab4",
   "metadata": {},
   "outputs": [
    {
     "data": {
      "text/plain": [
       "<AxesSubplot:xlabel='first_comp', ylabel='second_comp'>"
      ]
     },
     "execution_count": 473,
     "metadata": {},
     "output_type": "execute_result"
    },
    {
     "data": {
      "image/png": "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\n",
      "text/plain": [
       "<Figure size 720x432 with 1 Axes>"
      ]
     },
     "metadata": {
      "needs_background": "light"
     },
     "output_type": "display_data"
    }
   ],
   "source": [
    "plt.figure(figsize=(10,6))\n",
    "df['first_comp'] = tsne_output[:,0]\n",
    "df['second_comp'] = tsne_output[:,1]\n",
    "sns.scatterplot(x='first_comp', y='second_comp', data = df, hue='Y', alpha=0.4)"
   ]
  },
  {
   "cell_type": "markdown",
   "id": "5dd19c80",
   "metadata": {},
   "source": [
    "### `We loaded the data and preprocessed it. The features which were categorical had to be converted/encoded as numeric feature. This was done using \"One Hot Encoding\". Also instances with NaN values were dropped and feature like 'Car' was dropped as it had more than 99 percent of missing values `\n",
    "\n",
    "### `The data was further split in test and train for our modelling and evaluations. Also t_SNE plot has been shown. The blue labels and orange labels represent the two class labels. Also alpha parameter was set to show  how the instances are stacked over one another`"
   ]
  },
  {
   "cell_type": "markdown",
   "id": "b69de2e9",
   "metadata": {},
   "source": []
  },
  {
   "cell_type": "markdown",
   "id": "da995ca7",
   "metadata": {},
   "source": [
    "## Part b\n",
    "## Implementing KNN"
   ]
  },
  {
   "cell_type": "code",
   "execution_count": 550,
   "id": "1ecc53a6",
   "metadata": {},
   "outputs": [],
   "source": [
    "##We will  define the two popular distance metric used in KNN algorithm \n",
    "def euclid_distance(point1, point2):\n",
    "    point1_new = point1[:len(point1)-1] \n",
    "    point2_new = point2[:len(point2)-1]\n",
    "    difference = point1_new-point2_new\n",
    "    squared_diff = pow(difference,2)\n",
    "    sum_squared_diff = np.sum(squared_diff)\n",
    "    dist_euclidean = np.sqrt(sum_squared_diff)\n",
    "    return dist_euclidean\n",
    "\n",
    "def manhat_distance(point1, point2):\n",
    "    point1_new = point1[:len(point1)-1]\n",
    "    point2_new = point2[:len(point2)-1]\n",
    "    difference = point1_new-point2_new\n",
    "    absolute_diff = abs(difference)\n",
    "    dist_manhattan = np.sum(absolute_diff)\n",
    "    return dist_manhattan\n",
    "\n",
    "##debugged and it does work"
   ]
  },
  {
   "cell_type": "code",
   "execution_count": 543,
   "id": "801fa546",
   "metadata": {},
   "outputs": [
    {
     "name": "stdout",
     "output_type": "stream",
     "text": [
      "(9333, 109)\n",
      "(9333,)\n",
      "(3112, 109)\n",
      "(3112,)\n"
     ]
    }
   ],
   "source": [
    "print(Xtrain.shape)\n",
    "print(Ytrain.shape)\n",
    "print(Xtest.shape)\n",
    "print(Ytest.shape)"
   ]
  },
  {
   "cell_type": "code",
   "execution_count": 544,
   "id": "60701a9a",
   "metadata": {},
   "outputs": [],
   "source": [
    "## fetching nearest neighbors\n",
    "\n",
    "def fetch_nearest_neighbours(Xtrain, Xtest, K, metric='E'):\n",
    "    ## Metric could be either 'M' --> for manhattan, 'E' for euclidean\n",
    "    list_of_distance = list()\n",
    "    visited_instance= list()\n",
    "    for row in Xtrain:\n",
    "        visited_instance.append(row)\n",
    "        d_calc = 0.0\n",
    "        if(metric=='E'):\n",
    "            d_calc = euclid_distance(Xtest, row)\n",
    "        else:\n",
    "            d_calc = manhat_distance(Xtest, row)\n",
    "        \n",
    "        list_of_distance.append(d_calc)\n",
    "        \n",
    "    ##arrayfication (Let's suppose it is a term for now :) )\n",
    "    list_of_distance = np.array(list_of_distance)\n",
    "    visited_instance = np.array(visited_instance)\n",
    "    \n",
    "    ids_sorted = list_of_distance.argsort()\n",
    "    visited_instance = visited_instance[ids_sorted]\n",
    "    \n",
    "    return visited_instance[:K]"
   ]
  },
  {
   "cell_type": "code",
   "execution_count": 545,
   "id": "a3cf0ea2",
   "metadata": {},
   "outputs": [],
   "source": [
    "## defining knn-PREDICTOR that uses fetch_nearest_neighbour\n",
    "def knn_predictor(Xtrain, Xtest, K, metric='E'):\n",
    "    label = list()\n",
    "    found_k_nbrs = fetch_nearest_neighbours(Xtrain, Xtest, K, metric)\n",
    "    \n",
    "    for value in found_k_nbrs:\n",
    "        label.append(value[-1])\n",
    "    count_of_labels = label.count\n",
    "    majority_label = max(label, key=count_of_labels)\n",
    "    \n",
    "    return majority_label"
   ]
  },
  {
   "cell_type": "code",
   "execution_count": 546,
   "id": "c0475371",
   "metadata": {},
   "outputs": [],
   "source": [
    "predicted_targets = list()\n",
    "\n",
    "for instance in Xtest:\n",
    "    value_returned = knn_predictor(Xtrain, instance, 5, 'E')\n",
    "    predicted_targets.append(value_returned)"
   ]
  },
  {
   "cell_type": "code",
   "execution_count": 620,
   "id": "1630fd59",
   "metadata": {},
   "outputs": [],
   "source": [
    "#A generic function\n",
    "def predict_val(K):\n",
    "    pt = list()\n",
    "    for instance in Xtest:\n",
    "        value_returned = knn_predictor(Xtrain, instance, K, 'E')\n",
    "        pt.append(value_returned)\n",
    "    pt = np.array(pt)\n",
    "    return pt"
   ]
  },
  {
   "cell_type": "code",
   "execution_count": 547,
   "id": "faa99115",
   "metadata": {},
   "outputs": [
    {
     "data": {
      "text/plain": [
       "(3112,)"
      ]
     },
     "execution_count": 547,
     "metadata": {},
     "output_type": "execute_result"
    }
   ],
   "source": [
    "predicted_targets = np.array(predicted_targets)\n",
    "predicted_targets.shape"
   ]
  },
  {
   "cell_type": "code",
   "execution_count": 548,
   "id": "e3901b33",
   "metadata": {},
   "outputs": [
    {
     "data": {
      "text/plain": [
       "(3112,)"
      ]
     },
     "execution_count": 548,
     "metadata": {},
     "output_type": "execute_result"
    }
   ],
   "source": [
    "Ytest.shape"
   ]
  },
  {
   "cell_type": "code",
   "execution_count": 557,
   "id": "89c4a92b",
   "metadata": {},
   "outputs": [],
   "source": [
    "predicted_targetsM = list()\n",
    "\n",
    "for instance in Xtest:\n",
    "    value_returned = knn_predictor(Xtrain, instance, 5, 'M')\n",
    "    predicted_targetsM.append(value_returned)"
   ]
  },
  {
   "cell_type": "markdown",
   "id": "ec919f6d",
   "metadata": {},
   "source": [
    "#### Grid Search and finding optimum value of K"
   ]
  },
  {
   "cell_type": "code",
   "execution_count": 619,
   "id": "5d5bba13",
   "metadata": {},
   "outputs": [],
   "source": [
    "paramOf_grid = {'K':[3,5,10,15,20,25,40,50]}"
   ]
  },
  {
   "cell_type": "code",
   "execution_count": 621,
   "id": "2c24d56e",
   "metadata": {},
   "outputs": [],
   "source": [
    "def grid_search(paramOf_grid):\n",
    "    accuracy_list = list()\n",
    "    L = list(paramOf_grid.values())[0]\n",
    "    for K in L:\n",
    "        return_predicted = predict_val(K)\n",
    "        accuracy_list.append(accuracy_score(return_predicted, Ytest))\n",
    "    return accuracy_list\n",
    "        "
   ]
  },
  {
   "cell_type": "code",
   "execution_count": 622,
   "id": "82596c94",
   "metadata": {},
   "outputs": [],
   "source": [
    "accuracy_list = grid_search(paramOf_grid)"
   ]
  },
  {
   "cell_type": "code",
   "execution_count": 623,
   "id": "0a11ee90",
   "metadata": {},
   "outputs": [
    {
     "data": {
      "text/plain": [
       "[0.6404241645244216,\n",
       " 0.6613110539845758,\n",
       " 0.6844473007712082,\n",
       " 0.7053341902313625,\n",
       " 0.7091902313624678,\n",
       " 0.7024421593830334,\n",
       " 0.7050128534704371,\n",
       " 0.7046915167095116]"
      ]
     },
     "execution_count": 623,
     "metadata": {},
     "output_type": "execute_result"
    }
   ],
   "source": [
    "accuracy_list"
   ]
  },
  {
   "cell_type": "code",
   "execution_count": 640,
   "id": "57b197cc",
   "metadata": {},
   "outputs": [],
   "source": [
    "paramOf_grid_ = {'K':[1,2,3,4,5,6,7,8,9,10,15,20,25,40,47,48,49,50]}\n",
    "acc_list = grid_search(paramOf_grid_)"
   ]
  },
  {
   "cell_type": "code",
   "execution_count": 641,
   "id": "00a40d20",
   "metadata": {},
   "outputs": [
    {
     "data": {
      "text/plain": [
       "[0.6452442159383034,\n",
       " 0.6452442159383034,\n",
       " 0.6404241645244216,\n",
       " 0.6542416452442159,\n",
       " 0.6613110539845758,\n",
       " 0.672879177377892,\n",
       " 0.662917737789203,\n",
       " 0.6802699228791774,\n",
       " 0.6754498714652957,\n",
       " 0.6844473007712082,\n",
       " 0.7053341902313625,\n",
       " 0.7091902313624678,\n",
       " 0.7024421593830334,\n",
       " 0.7050128534704371,\n",
       " 0.6976221079691517,\n",
       " 0.7050128534704371,\n",
       " 0.6989074550128535,\n",
       " 0.7046915167095116]"
      ]
     },
     "execution_count": 641,
     "metadata": {},
     "output_type": "execute_result"
    }
   ],
   "source": [
    "acc_list"
   ]
  },
  {
   "cell_type": "code",
   "execution_count": 648,
   "id": "2804cc9f",
   "metadata": {},
   "outputs": [
    {
     "data": {
      "text/plain": [
       "array([0.35475578, 0.35475578, 0.35957584, 0.34575835, 0.33868895,\n",
       "       0.32712082, 0.33708226, 0.31973008, 0.32455013, 0.3155527 ,\n",
       "       0.29466581, 0.29080977, 0.29755784, 0.29498715, 0.30237789,\n",
       "       0.29498715, 0.30109254, 0.29530848])"
      ]
     },
     "execution_count": 648,
     "metadata": {},
     "output_type": "execute_result"
    }
   ],
   "source": [
    "#We know that error is 1 - accuracy\n",
    "one = np.ones(shape=(len(acc_list),))\n",
    "err_list = x-acc_list\n",
    "err_list"
   ]
  },
  {
   "cell_type": "code",
   "execution_count": 654,
   "id": "e5fa5caa",
   "metadata": {
    "scrolled": true
   },
   "outputs": [
    {
     "data": {
      "text/plain": [
       "Text(0.5, 1.0, 'Error vs K-value')"
      ]
     },
     "execution_count": 654,
     "metadata": {},
     "output_type": "execute_result"
    },
    {
     "data": {
      "image/png": "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\n",
      "text/plain": [
       "<Figure size 432x288 with 1 Axes>"
      ]
     },
     "metadata": {
      "needs_background": "light"
     },
     "output_type": "display_data"
    }
   ],
   "source": [
    "xval = [1,2,3,4,5,6,7,8,9,10,15,20,25,40,47,48,49,50]\n",
    "yval = err_list\n",
    "plt.plot(xval, yval)\n",
    "plt.title('Error vs K-value')"
   ]
  },
  {
   "cell_type": "code",
   "execution_count": 655,
   "id": "98d3054a",
   "metadata": {},
   "outputs": [
    {
     "data": {
      "text/plain": [
       "Text(0.5, 1.0, 'Accuracy vs K-value')"
      ]
     },
     "execution_count": 655,
     "metadata": {},
     "output_type": "execute_result"
    },
    {
     "data": {
      "image/png": "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\n",
      "text/plain": [
       "<Figure size 432x288 with 1 Axes>"
      ]
     },
     "metadata": {
      "needs_background": "light"
     },
     "output_type": "display_data"
    }
   ],
   "source": [
    "plt.plot(xval,acc_list)\n",
    "plt.title('Accuracy vs K-value')"
   ]
  },
  {
   "cell_type": "markdown",
   "id": "c74161e8",
   "metadata": {},
   "source": [
    "### `We implemented KNN algorithm from scratch. First we defined distance metrics for Euclidean as well as Manhattan. Then to fetch K nearest neighbours, a function was defined, which returned K nearest instances based on the chosen distance metric(\"M\"--->Manhattan or \"E\"--->Euclidean). Out of these K instances returned, their corresponding 'Y' values were observed(rather say, stored) and the majority one was decided as the label for that particular test instance`\n",
    "\n",
    "### `We also performed \"grid search\"-esque utility for our model and stored the accuracy at various values of K (i.e, the number of neihbors) and used it to plot the graph between error and K`"
   ]
  },
  {
   "cell_type": "markdown",
   "id": "71bc7068",
   "metadata": {},
   "source": [
    "## Part c\n",
    "#### PREDICTING WITH SKLEARN "
   ]
  },
  {
   "cell_type": "code",
   "execution_count": 635,
   "id": "d97cb553",
   "metadata": {},
   "outputs": [],
   "source": [
    "###testing with in-built sklearn kneighbour classifier\n",
    "from sklearn.neighbors import KNeighborsClassifier\n",
    "xtr,xts,ytr,yts = train_test_split(X.drop('Y',axis=1), Y, test_size=0.25, random_state=101)\n"
   ]
  },
  {
   "cell_type": "code",
   "execution_count": 627,
   "id": "655dd3a6",
   "metadata": {},
   "outputs": [],
   "source": [
    "from sklearn.model_selection import GridSearchCV"
   ]
  },
  {
   "cell_type": "code",
   "execution_count": 625,
   "id": "e4019d8b",
   "metadata": {},
   "outputs": [],
   "source": [
    "values_of_k = np.arange(1,51)\n",
    "param_grid= dict(n_neighbors=values_of_k)\n"
   ]
  },
  {
   "cell_type": "code",
   "execution_count": 626,
   "id": "cd0297e4",
   "metadata": {},
   "outputs": [],
   "source": [
    "knn_model = KNeighborsClassifier()"
   ]
  },
  {
   "cell_type": "code",
   "execution_count": 628,
   "id": "5a340cd3",
   "metadata": {},
   "outputs": [],
   "source": [
    "grid = GridSearchCV(knn_model, param_grid, cv=5)"
   ]
  },
  {
   "cell_type": "code",
   "execution_count": 629,
   "id": "e64a0065",
   "metadata": {},
   "outputs": [
    {
     "data": {
      "text/plain": [
       "GridSearchCV(cv=5, estimator=KNeighborsClassifier(),\n",
       "             param_grid={'n_neighbors': array([ 1,  2,  3,  4,  5,  6,  7,  8,  9, 10, 11, 12, 13, 14, 15, 16, 17,\n",
       "       18, 19, 20, 21, 22, 23, 24, 25, 26, 27, 28, 29, 30, 31, 32, 33, 34,\n",
       "       35, 36, 37, 38, 39, 40, 41, 42, 43, 44, 45, 46, 47, 48, 49, 50])})"
      ]
     },
     "execution_count": 629,
     "metadata": {},
     "output_type": "execute_result"
    }
   ],
   "source": [
    "grid.fit(X.drop('Y',axis=1),Y)"
   ]
  },
  {
   "cell_type": "code",
   "execution_count": 630,
   "id": "387ca306",
   "metadata": {},
   "outputs": [
    {
     "data": {
      "text/plain": [
       "{'n_neighbors': 48}"
      ]
     },
     "execution_count": 630,
     "metadata": {},
     "output_type": "execute_result"
    }
   ],
   "source": [
    "grid.best_params_"
   ]
  },
  {
   "cell_type": "markdown",
   "id": "34aadcd1",
   "metadata": {},
   "source": [
    "#### So grid search using sklearn has given the best parameter value at n_neighbors = 48.\n",
    "#### Let's test the accuracy at this particular value"
   ]
  },
  {
   "cell_type": "code",
   "execution_count": 631,
   "id": "fa605268",
   "metadata": {},
   "outputs": [],
   "source": [
    "knn_optimal = KNeighborsClassifier(n_neighbors=48)"
   ]
  },
  {
   "cell_type": "code",
   "execution_count": 632,
   "id": "24ec8c38",
   "metadata": {},
   "outputs": [
    {
     "data": {
      "text/plain": [
       "KNeighborsClassifier(n_neighbors=48)"
      ]
     },
     "execution_count": 632,
     "metadata": {},
     "output_type": "execute_result"
    }
   ],
   "source": [
    "#Now we will fit the model\n",
    "knn_optimal.fit(xtr, ytr)"
   ]
  },
  {
   "cell_type": "code",
   "execution_count": 633,
   "id": "201f58b3",
   "metadata": {},
   "outputs": [],
   "source": [
    "#we will store the predicted values\n",
    "pred_optimal = knn_optimal.predict(xts)"
   ]
  },
  {
   "cell_type": "code",
   "execution_count": 634,
   "id": "db2160b6",
   "metadata": {},
   "outputs": [
    {
     "data": {
      "text/plain": [
       "0.6963367609254498"
      ]
     },
     "execution_count": 634,
     "metadata": {},
     "output_type": "execute_result"
    }
   ],
   "source": [
    "#printing test accuracy\n",
    "accuracy_score(pred_optimal, yts)"
   ]
  },
  {
   "cell_type": "code",
   "execution_count": 639,
   "id": "48741f9e",
   "metadata": {},
   "outputs": [
    {
     "data": {
      "text/plain": [
       "0.7213114754098361"
      ]
     },
     "execution_count": 639,
     "metadata": {},
     "output_type": "execute_result"
    }
   ],
   "source": [
    "#printing train accuracy\n",
    "val_train = knn_optimal.predict(xtr)\n",
    "accuracy_score(val_train, ytr)"
   ]
  },
  {
   "cell_type": "markdown",
   "id": "61b50b01",
   "metadata": {},
   "source": [
    "## The test accuracy through SKLearn module for  KNN came out to be around 69.6 percent at the optimum value of k = 48\n",
    "## Also training accuracy was found to be 72 percent"
   ]
  },
  {
   "cell_type": "code",
   "execution_count": null,
   "id": "0b727a34",
   "metadata": {},
   "outputs": [],
   "source": []
  }
 ],
 "metadata": {
  "kernelspec": {
   "display_name": "Python 3",
   "language": "python",
   "name": "python3"
  },
  "language_info": {
   "codemirror_mode": {
    "name": "ipython",
    "version": 3
   },
   "file_extension": ".py",
   "mimetype": "text/x-python",
   "name": "python",
   "nbconvert_exporter": "python",
   "pygments_lexer": "ipython3",
   "version": "3.8.8"
  }
 },
 "nbformat": 4,
 "nbformat_minor": 5
}
