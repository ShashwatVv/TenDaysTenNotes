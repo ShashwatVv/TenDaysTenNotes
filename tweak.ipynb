{
 "cells": [
  {
   "cell_type": "markdown",
   "id": "8c04a736",
   "metadata": {},
   "source": [
    "### Creating a Natual Language Interface that provides input to our course advisory system developed in prolog in assignment 1."
   ]
  },
  {
   "cell_type": "markdown",
   "id": "1d16249c",
   "metadata": {},
   "source": [
    "## `Shashwat Vaibhav    MT21082`"
   ]
  },
  {
   "cell_type": "code",
   "execution_count": 1,
   "id": "4074759b",
   "metadata": {},
   "outputs": [],
   "source": [
    "##Installing pyswip  module\n",
    "## It helps consult prolog (.pl) files\n",
    "## Do  not run again, already installed in the first run\n",
    "#!pip install pyswip"
   ]
  },
  {
   "cell_type": "code",
   "execution_count": 2,
   "id": "d9e3d2bf",
   "metadata": {},
   "outputs": [],
   "source": [
    "## Importing necessary modules, classes and methods\n",
    "## Let's import natural language toolkit\n",
    "import nltk  ##it had already been installed on my system"
   ]
  },
  {
   "cell_type": "code",
   "execution_count": 3,
   "id": "75742e8c",
   "metadata": {},
   "outputs": [],
   "source": [
    "## importing necessary nltk methods/subrotines\n",
    "from nltk.stem  import PorterStemmer as PST\n",
    "## Why did we use it?? --> to reduce unnecessary information by clipping  the \n",
    "## words to its root.\n",
    "from nltk.tokenize import word_tokenize as token"
   ]
  },
  {
   "cell_type": "code",
   "execution_count": 4,
   "id": "8d5f64ea",
   "metadata": {},
   "outputs": [],
   "source": [
    "## importing modules to consult and handle prolog files\n",
    "from pyswip import Prolog as plg"
   ]
  },
  {
   "cell_type": "code",
   "execution_count": 5,
   "id": "163b99e2",
   "metadata": {},
   "outputs": [],
   "source": [
    "## Let's create prolog Object\n",
    "objProlog = plg()"
   ]
  },
  {
   "cell_type": "code",
   "execution_count": 6,
   "id": "85987096",
   "metadata": {},
   "outputs": [
    {
     "name": "stdout",
     "output_type": "stream",
     "text": [
      "Help on class Prolog in module pyswip.prolog:\n",
      "\n",
      "class Prolog(builtins.object)\n",
      " |  Easily query SWI-Prolog.\n",
      " |  This is a singleton class\n",
      " |  \n",
      " |  Class methods defined here:\n",
      " |  \n",
      " |  asserta(assertion, catcherrors=False) from builtins.type\n",
      " |  \n",
      " |  assertz(assertion, catcherrors=False) from builtins.type\n",
      " |  \n",
      " |  consult(filename, catcherrors=False) from builtins.type\n",
      " |  \n",
      " |  dynamic(term, catcherrors=False) from builtins.type\n",
      " |  \n",
      " |  query(query, maxresult=-1, catcherrors=True, normalize=True) from builtins.type\n",
      " |      Run a prolog query and return a generator.\n",
      " |      If the query is a yes/no question, returns {} for yes, and nothing for no.\n",
      " |      Otherwise returns a generator of dicts with variables as keys.\n",
      " |      \n",
      " |      >>> prolog = Prolog()\n",
      " |      >>> prolog.assertz(\"father(michael,john)\")\n",
      " |      >>> prolog.assertz(\"father(michael,gina)\")\n",
      " |      >>> bool(list(prolog.query(\"father(michael,john)\")))\n",
      " |      True\n",
      " |      >>> bool(list(prolog.query(\"father(michael,olivia)\")))\n",
      " |      False\n",
      " |      >>> print sorted(prolog.query(\"father(michael,X)\"))\n",
      " |      [{'X': 'gina'}, {'X': 'john'}]\n",
      " |  \n",
      " |  retract(term, catcherrors=False) from builtins.type\n",
      " |  \n",
      " |  retractall(term, catcherrors=False) from builtins.type\n",
      " |  \n",
      " |  ----------------------------------------------------------------------\n",
      " |  Data descriptors defined here:\n",
      " |  \n",
      " |  __dict__\n",
      " |      dictionary for instance variables (if defined)\n",
      " |  \n",
      " |  __weakref__\n",
      " |      list of weak references to the object (if defined)\n",
      "\n"
     ]
    }
   ],
   "source": [
    "## we can use help() function to know more about Prolog \n",
    "## which has been imported AS plg\n",
    "help(plg)"
   ]
  },
  {
   "cell_type": "code",
   "execution_count": 7,
   "id": "6d048c2b",
   "metadata": {},
   "outputs": [],
   "source": [
    "##My file oneAi.pl is in same directory, soo we can call it directly\n",
    "objProlog.consult('oneAi.pl')"
   ]
  },
  {
   "cell_type": "code",
   "execution_count": 8,
   "id": "96ae46ab",
   "metadata": {},
   "outputs": [
    {
     "data": {
      "text/plain": [
       "<generator object Prolog._QueryWrapper.__call__ at 0x00000298D8B84AC0>"
      ]
     },
     "execution_count": 8,
     "metadata": {},
     "output_type": "execute_result"
    }
   ],
   "source": [
    "## Let's run to see if actually does work or not\n",
    "objProlog.query(\"advise_ai(0)\")"
   ]
  },
  {
   "cell_type": "markdown",
   "id": "849141ea",
   "metadata": {},
   "source": [
    "###  The previous result is not useful for us. It needs to be typecasted into a boolean value, but after converting it to a list"
   ]
  },
  {
   "cell_type": "code",
   "execution_count": 9,
   "id": "de353956",
   "metadata": {},
   "outputs": [
    {
     "data": {
      "text/plain": [
       "True"
      ]
     },
     "execution_count": 9,
     "metadata": {},
     "output_type": "execute_result"
    }
   ],
   "source": [
    "bool(list(objProlog.query(\"advise_ai(2)\")))"
   ]
  },
  {
   "cell_type": "code",
   "execution_count": 10,
   "id": "acee0146",
   "metadata": {},
   "outputs": [
    {
     "data": {
      "text/plain": [
       "True"
      ]
     },
     "execution_count": 10,
     "metadata": {},
     "output_type": "execute_result"
    }
   ],
   "source": [
    "##The previous input resulted false as there was no such fact advise_ai(0) in my prolog \n",
    "## file. \n",
    "## But there is a fact \"advise_ai(1)\", so it must return true, Let's  see.\n",
    "bool(list(objProlog.query(\"advise_ai(1)\")))"
   ]
  },
  {
   "cell_type": "code",
   "execution_count": 11,
   "id": "9edb3294",
   "metadata": {},
   "outputs": [],
   "source": [
    "from nltk.corpus import stopwords\n",
    "\n",
    "import string"
   ]
  },
  {
   "cell_type": "code",
   "execution_count": 12,
   "id": "e8e7c30c",
   "metadata": {},
   "outputs": [],
   "source": [
    "swords = stopwords.words('english')"
   ]
  },
  {
   "cell_type": "code",
   "execution_count": 13,
   "id": "69c5563f",
   "metadata": {},
   "outputs": [],
   "source": [
    "# let us define a generic function to remove stopwords from tokenized input string\n",
    "def remove_stopword(tokenized):\n",
    "    removed_list = list()\n",
    "    for tok in tokenized:\n",
    "        if tok not in swords:\n",
    "            removed_list.append(tok)\n",
    "    \n",
    "    return removed_list"
   ]
  },
  {
   "cell_type": "markdown",
   "id": "8f5e56fb",
   "metadata": {},
   "source": [
    "### take input from user"
   ]
  },
  {
   "cell_type": "markdown",
   "id": "4447a794",
   "metadata": {},
   "source": [
    "#### We will first convert the input string  to lowercase, remove any punctuation and tokenize"
   ]
  },
  {
   "cell_type": "code",
   "execution_count": 14,
   "id": "b8316fe5",
   "metadata": {},
   "outputs": [],
   "source": [
    "## Let's create a generic function that converts to lower case, removes punctuation and tokenizes\n",
    "## an input string\n",
    "\n",
    "def formalize_text(input_txt):\n",
    "    tok_list = list()\n",
    "    ##created an empty list to store the tokenized input\n",
    "    input_txt = input_txt.lower()\n",
    "    input_txt = input_txt.translate(str.maketrans('', '', string.punctuation))\n",
    "    tokenized= token(input_txt)\n",
    "    ## will call remove_stopword() function that I have defined earlier\n",
    "    tokenized_final = remove_stopword(tokenized)\n",
    "    return tokenized_final "
   ]
  },
  {
   "cell_type": "code",
   "execution_count": 15,
   "id": "fd3f47a0",
   "metadata": {},
   "outputs": [
    {
     "data": {
      "text/plain": [
       "['hey', 'friend']"
      ]
     },
     "execution_count": 15,
     "metadata": {},
     "output_type": "execute_result"
    }
   ],
   "source": [
    "##Let's see formalize text is working or not\n",
    "debug = formalize_text(\"Hey! how have been you, my friend!!\")\n",
    "debug"
   ]
  },
  {
   "cell_type": "code",
   "execution_count": 16,
   "id": "a7c0b07a",
   "metadata": {},
   "outputs": [],
   "source": [
    "## our code is working"
   ]
  },
  {
   "cell_type": "code",
   "execution_count": 17,
   "id": "85b0eb7f",
   "metadata": {},
   "outputs": [
    {
     "name": "stdout",
     "output_type": "stream",
     "text": [
      "Hello there, welcome to the course advisory system.\n",
      "We have following career paths:\n",
      "\n",
      "1.Artificial Intelligence Expert\n",
      "2.Information Security and Systems Expert\n",
      "3.Data Engineer\n",
      "4.Wireless Communication and Mobile Computing Expert\n",
      "5.Financial Analyst\n",
      "\n",
      "Tell me your name and the carrier path you want to pursue: ggg\n"
     ]
    }
   ],
   "source": [
    "print(\"Hello there, welcome to the course advisory system.\")\n",
    "print(\"We have following career paths:\\n\")\n",
    "print(\"1.Artificial Intelligence Expert\\n2.Information Security and Systems Expert\\n3.Data Engineer\\n4.Wireless Communication and Mobile Computing Expert\\n5.Financial Analyst\\n\")\n",
    "input_string = input(\"Tell me your name and the carrier path you want to pursue: \")"
   ]
  },
  {
   "cell_type": "code",
   "execution_count": 18,
   "id": "14207b44",
   "metadata": {},
   "outputs": [
    {
     "data": {
      "text/plain": [
       "['ggg']"
      ]
     },
     "execution_count": 18,
     "metadata": {},
     "output_type": "execute_result"
    }
   ],
   "source": [
    "## storing the input into variable input string and calling formalize_txt on it\n",
    "formalized_input_list = formalize_text(input_string)\n",
    "formalized_input_list"
   ]
  },
  {
   "cell_type": "code",
   "execution_count": 19,
   "id": "ef4763bc",
   "metadata": {},
   "outputs": [],
   "source": [
    "##the fields that we have \n",
    "Fields = ['artificial intelligence', 'information security', 'data engineer',\n",
    "          'wireless communication and mobile computing expert',\n",
    "          'financial analyst'\n",
    "         ]"
   ]
  },
  {
   "cell_type": "code",
   "execution_count": 20,
   "id": "f82ded33",
   "metadata": {},
   "outputs": [],
   "source": [
    "def helper_function(formalized_input_list):\n",
    "    level = int(input(\"what level of familiarity you have with this field? (1-3): \"))\n",
    "    for field in Fields:\n",
    "        for value in formalized_input_list:\n",
    "            if value in field:\n",
    "                if value=='artificial' or value =='intelligence':\n",
    "                    artificial(level)\n",
    "                elif value == 'data':\n",
    "                    dataeng(level)\n",
    "                elif value == 'wireless' or value == 'mobile':\n",
    "                    wimob(level)\n",
    "                elif value == 'information' or value == 'security':\n",
    "                    infosec(level)\n",
    "                elif value == 'financial' or 'finance' or 'analyst':\n",
    "                    finance(level)\n",
    "    return"
   ]
  },
  {
   "cell_type": "code",
   "execution_count": 21,
   "id": "d3f378ab",
   "metadata": {},
   "outputs": [],
   "source": [
    "\n",
    "def artificial(level):\n",
    "    if level ==1:\n",
    "        #objProlog.assertz('advice_ai(1)')\n",
    "        print('My advice for you would be to take the following subjects this semester:\\n1.Graduate Algorithm.\\n2.Artificial Intelligence.\\n3.Reinforcement Learning\\n')\n",
    "    \n",
    "    elif level==2:\n",
    "        #objProlog.assertz('advice_ai(2)')\n",
    "        print('''My advice for you would be to take the following subjects this semester:\\n\n",
    "1.Machine Learning.\\n\n",
    "2.Artificial Intelligence.\\n\n",
    "3.Reinforcement Learning.\\n''')\n",
    "    else:\n",
    "        #objProlog.assertz('advice_ai(3)')\n",
    "        ('''My advice for you would be to take the following subjects this semester:\\n\n",
    "1.Graduate Algorithm.\\n\n",
    "2.Artificial Intelligence.\\n\n",
    "3.Reinforcement Learning or NLP or Deep Learning or Computer Vision.\\n''')\n",
    "    return\n",
    "\n",
    "def dataeng(level):\n",
    "    if level ==1:\n",
    "        #objProlog.assertz('advice_de(1)')\n",
    "        print('''My advice for you would be to take the following subjects this semester:\\n\n",
    "1.Graduate Algorithm.\\n\n",
    "2.Database Implementation.\\n\n",
    "3.GPU Computing\\n''')\n",
    "    \n",
    "    elif level==2:\n",
    "        #objProlog.assertz('advice_de(2)')\n",
    "        print('''My advice for you would be to take the following subjects this semester:\\n\n",
    "1.Big Data.\\n\n",
    "2.Information Retrieval.\\n\n",
    "3.Garduate Algorithm or NLP or Deep Learning or Computer Vision.\\n''')\n",
    "        \n",
    "    else:\n",
    "        #objProlog.assertz('advice_de(3)')\n",
    "        print('''My advice for you would be to take the following subjects this semester:\\n\n",
    "1.Machine Learning.\\n\n",
    "2.GPU Computing.\\n\n",
    "3.Data Mining.\\n''')\n",
    "    return\n",
    "\n",
    "def wimob(level):\n",
    "    if level ==1:\n",
    "        #objProlog.assertz('advice_mc(1)')\n",
    "        print('''My advice for you would be to take the following subjects this semester:\\n\n",
    "1.Graduate Algorithm.\\n\n",
    "2.Wireless Network.\\n\n",
    "3.Network Security.\\n''')\n",
    "    \n",
    "    elif level==2:\n",
    "        #objProlog.assertz('advice_mc(2)')\n",
    "        print('''My advice for you would be to take the following subjects this\n",
    " semester:\\n\n",
    "1.Mobile Computing.\n",
    "2.Network Security.\n",
    "3.Graduate Algorithm.\\n''')\n",
    "    else:\n",
    "        #objProlog.assertz('advice_mc(3)')\n",
    "        print('''My advice for you would be to take the following subjects this semester:\\n\n",
    "1.Applied Cryptography.\n",
    "2.Information retrieval\n",
    "3.Graduate Algorithm \\n''')\n",
    "    return\n",
    "\n",
    "def infosec(level):\n",
    "    if level ==1:\n",
    "        #objProlog.assertz('advice_is(1)')\n",
    "        \n",
    "        print('''My advice for you would be to take the following subjects this semester:\\n\n",
    "1.Graduate Algorithm.\\n\n",
    "2.Foundation to Computer security.\\n\n",
    "3.Network Security.\\n''')\n",
    "    \n",
    "    elif level==2:\n",
    "        #objProlog.assertz('advice_is(2)')\n",
    "        print('''My advice for you would be to take the following subjects this\n",
    " semester:\\n\n",
    "1.Foundation to Computer Security.\n",
    "2.Applied Cryptography.\n",
    "3.Graduate Algorithm.\\n''')\n",
    "        \n",
    "    else:\n",
    "        #objProlog.assertz('advice_is(3)')\n",
    "        print('''My advice for you would be to take the following subjects this semester:\\n\n",
    "1.Foundation to Computer Security or Network Security.\n",
    "2.Information retrieval\n",
    "3.Graduate Algorithm \\n''')\n",
    "    return\n",
    "\n",
    "def finance(level):\n",
    "    if level ==1:\n",
    "        #objProlog.assertz('advice_fa(1)')\n",
    "        print ('''My advice for you would be to take the following subjects this semester:\\n\n",
    "1.Graduate Algorithm.\\n\n",
    "2.Database Implementation.\\n\n",
    "3.Foundation of Finance\\n''')\n",
    "    \n",
    "    elif level==2:\n",
    "        #objProlog.assertz('advice_fa(2)')\n",
    "        print('''My advice for you would be to take the following subjects this semester:\\n\n",
    "1.Graduate Algorithm.\\n\n",
    "2.Foundation of Finance.\\n\n",
    "3.Data Mining.\\n''')\n",
    "        \n",
    "    else:\n",
    "        #objProlog.assertz('advice_fa(3)')\n",
    "        print('''My advice for you would be to take the following subjects this semester:\\n\n",
    "1.Entrepreneurial Finance .\\n\n",
    "2.Database Implementation.\\n\n",
    "3.Garduate Algorithm .\\n''')\n",
    "    return\n"
   ]
  },
  {
   "cell_type": "code",
   "execution_count": 22,
   "id": "6c52bafb",
   "metadata": {},
   "outputs": [
    {
     "name": "stdout",
     "output_type": "stream",
     "text": [
      "My advice for you would be to take the following subjects this semester:\n",
      "\n",
      "1.Graduate Algorithm.\n",
      "\n",
      "2.Artificial Intelligence.\n",
      "\n",
      "3.Reinforcement Learning\n",
      "\n"
     ]
    }
   ],
   "source": [
    "print('''My advice for you would be to take the following subjects this semester:\\n\n",
    "1.Graduate Algorithm.\\n\n",
    "2.Artificial Intelligence.\\n\n",
    "3.Reinforcement Learning\\n''')"
   ]
  },
  {
   "cell_type": "markdown",
   "id": "af09b516",
   "metadata": {},
   "source": [
    "## So far we have implemented all the necessary functions and snippets necessary for our work. All the necessary steps were done after consulting the prolog file. One problem with jupyter was that it kept on restarting while asserting facts, so I had to rewrite the code for advisory based on level of expertise(1 to 3)."
   ]
  },
  {
   "cell_type": "code",
   "execution_count": 23,
   "id": "b81a8fdc",
   "metadata": {},
   "outputs": [
    {
     "name": "stdout",
     "output_type": "stream",
     "text": [
      "Hello there, welcome to the course advisory system.\n",
      "We have following career paths:\n",
      "\n",
      "1.Artificial Intelligence Expert\n",
      "2.Information Security and Systems Expert\n",
      "3.Data Engineer\n",
      "4.Wireless Communication and Mobile Computing Expert\n",
      "5.Financial Analyst\n",
      "\n",
      "Tell me your name and the carrier path you want to pursue: shashwat , I want to pursue Financial An..\n",
      "what level of familiarity you have with this field? (1-3): 2\n",
      "My advice for you would be to take the following subjects this semester:\n",
      "\n",
      "1.Graduate Algorithm.\n",
      "\n",
      "2.Foundation of Finance.\n",
      "\n",
      "3.Data Mining.\n",
      "\n"
     ]
    }
   ],
   "source": [
    "# Already consulted the pl file\n",
    "print(\"Hello there, welcome to the course advisory system.\")\n",
    "print(\"We have following career paths:\\n\")\n",
    "print(\"1.Artificial Intelligence Expert\\n2.Information Security and Systems Expert\\n3.Data Engineer\\n4.Wireless Communication and Mobile Computing Expert\\n5.Financial Analyst\\n\")\n",
    "input_string = input(\"Tell me your name and the carrier path you want to pursue: \")\n",
    "\n",
    "##formalize_txt function we have defined\n",
    "## we have Fields defined\n",
    "## we have helper_function that takes formalized_txt as input \n",
    "####  This helper takes input for the level of expertise\n",
    "#### and based on that returns the advise \n",
    "formal_text = formalize_text(input_string)\n",
    "helper_function(formal_text)\n"
   ]
  },
  {
   "cell_type": "code",
   "execution_count": null,
   "id": "981994c4",
   "metadata": {},
   "outputs": [],
   "source": []
  }
 ],
 "metadata": {
  "kernelspec": {
   "display_name": "Python 3",
   "language": "python",
   "name": "python3"
  },
  "language_info": {
   "codemirror_mode": {
    "name": "ipython",
    "version": 3
   },
   "file_extension": ".py",
   "mimetype": "text/x-python",
   "name": "python",
   "nbconvert_exporter": "python",
   "pygments_lexer": "ipython3",
   "version": "3.8.8"
  }
 },
 "nbformat": 4,
 "nbformat_minor": 5
}
